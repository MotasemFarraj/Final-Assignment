{
 "cells": [
  {
   "cell_type": "markdown",
   "id": "1ed58e04",
   "metadata": {},
   "source": [
    "#  Data Science Tools and Ecosystem"
   ]
  },
  {
   "cell_type": "markdown",
   "id": "b6f0ad3c",
   "metadata": {},
   "source": [
    "In this notebook, Data Science Tools and Ecosystem are summarized."
   ]
  },
  {
   "cell_type": "markdown",
   "id": "2cbc7bb2",
   "metadata": {},
   "source": [
    "Some of the popular languages that Data Scientists use are:\n",
    "    \n",
    "    1. Python\n",
    "    2. R\n",
    "    3. Javascript"
   ]
  },
  {
   "cell_type": "markdown",
   "id": "bcf516cc",
   "metadata": {},
   "source": [
    "Some of the commonly used libraries used by Data Scientists include:\n",
    "\n",
    "    1. NumPy\n",
    "    2. Pandas\n",
    "    3. Matplotlib"
   ]
  },
  {
   "cell_type": "markdown",
   "id": "87ea73e1",
   "metadata": {},
   "source": [
    "| Data Science Tools |\n",
    "| ------------------ |\n",
    "| Jyper Notebook  |\n",
    "| GitHup   |\n",
    "| RStudio   |"
   ]
  },
  {
   "cell_type": "markdown",
   "id": "dd1868b9",
   "metadata": {},
   "source": [
    "### Below are a few examples of evaluating arithmetic expressions in Python\n",
    "\n",
    "* (2+3)*8\n",
    "* x<-10\n",
    "* y>-5"
   ]
  },
  {
   "cell_type": "code",
   "execution_count": 2,
   "id": "524b2b13",
   "metadata": {},
   "outputs": [
    {
     "data": {
      "text/plain": [
       "17"
      ]
     },
     "execution_count": 2,
     "metadata": {},
     "output_type": "execute_result"
    }
   ],
   "source": [
    "#This a simple arithmetic expression to mutiply then add integers\n",
    "\n",
    "(3*4)+5\n"
   ]
  },
  {
   "cell_type": "code",
   "execution_count": 3,
   "id": "876d3d2a",
   "metadata": {},
   "outputs": [
    {
     "data": {
      "text/plain": [
       "3.3333333333333335"
      ]
     },
     "execution_count": 3,
     "metadata": {},
     "output_type": "execute_result"
    }
   ],
   "source": [
    "#This will convert 200 minutes to hours by diving by 60\n",
    "200/60"
   ]
  },
  {
   "cell_type": "markdown",
   "id": "c3d40dd4",
   "metadata": {},
   "source": [
    "***Objectives:***\n",
    "\n",
    " List popular languages for Data Science\n",
    " * Python\n",
    " * R\n",
    " * Javascript\n",
    " "
   ]
  },
  {
   "cell_type": "markdown",
   "id": "914d6402",
   "metadata": {},
   "source": [
    "## Author\n",
    "\n",
    "Motasem Farraj"
   ]
  },
  {
   "cell_type": "code",
   "execution_count": null,
   "id": "588f17e9",
   "metadata": {},
   "outputs": [],
   "source": []
  }
 ],
 "metadata": {
  "kernelspec": {
   "display_name": "Python 3 (ipykernel)",
   "language": "python",
   "name": "python3"
  },
  "language_info": {
   "codemirror_mode": {
    "name": "ipython",
    "version": 3
   },
   "file_extension": ".py",
   "mimetype": "text/x-python",
   "name": "python",
   "nbconvert_exporter": "python",
   "pygments_lexer": "ipython3",
   "version": "3.10.9"
  }
 },
 "nbformat": 4,
 "nbformat_minor": 5
}
